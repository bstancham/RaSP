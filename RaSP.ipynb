{
  "nbformat": 4,
  "nbformat_minor": 0,
  "metadata": {
    "colab": {
      "provenance": []
    },
    "kernelspec": {
      "name": "python3",
      "display_name": "Python 3"
    },
    "language_info": {
      "name": "python"
    }
  },
  "cells": [
    {
      "cell_type": "markdown",
      "source": [
        "# RaSP (Resize and Split for Printing)\n",
        "\n",
        "https://github.com/bstancham/RaSP\n",
        "\n",
        "# STEP 1: Setup\n",
        "\n",
        "This section downloads and installs the required libraries.\n",
        "\n",
        "You only need to run this part once.\n",
        "\n",
        "Run each code cell by clicking the little play button which appears in the top left when you hover the mouse over.\n",
        "\n",
        "Wait for each cell to finish executing before running the next cell."
      ],
      "metadata": {
        "id": "MBGQjicKQkAv"
      }
    },
    {
      "cell_type": "code",
      "source": [
        "# import dependencies for RaSP\n",
        "!pip install img2pdf"
      ],
      "metadata": {
        "id": "K_5e-xy_-bEq"
      },
      "execution_count": null,
      "outputs": []
    },
    {
      "cell_type": "code",
      "execution_count": null,
      "metadata": {
        "id": "OoRvJffi7izp"
      },
      "outputs": [],
      "source": [
        "# if RaSP dir exists, remove it\n",
        "%rm -rf RaSP\n",
        "\n",
        "# clone RaSP git repo using depth=1 to get only the latest commit - this should be a much smaller download\n",
        "!git clone --depth=1 https://github.com/bstancham/RaSP.git"
      ]
    },
    {
      "cell_type": "code",
      "source": [
        "# import RaSP from local dir and check that it works\n",
        "import sys\n",
        "sys.path.insert(0, '/content/RaSP')\n",
        "import rasp\n",
        "rasp.print_usage()"
      ],
      "metadata": {
        "id": "q7kFxmLwVBTP"
      },
      "execution_count": null,
      "outputs": []
    },
    {
      "cell_type": "markdown",
      "source": [
        "# STEP 2: Upload Image from Local Filesystem\n",
        "\n",
        "* run the cell below\n",
        "* you should see the progress wheel turning around, and the \"browse\" button will become active (or will appear if it's not visible)\n",
        "* click \"browse\" and select an image file from your computer\n",
        "* you should see your file listed in the output which appears below\n",
        "\n",
        "NOTE: Only .png and .jpg files supported."
      ],
      "metadata": {
        "id": "Blw6dtVY8BJc"
      }
    },
    {
      "cell_type": "code",
      "source": [
        "# upload image from local filesystem\n",
        "from google.colab import files\n",
        "uploaded_files = files.upload()"
      ],
      "metadata": {
        "id": "jzVS1w11HT2m"
      },
      "execution_count": null,
      "outputs": []
    },
    {
      "cell_type": "markdown",
      "source": [
        "# STEP 3: Set Output Parameters\n",
        "\n",
        "Edit the parameters to your satisfaction, then run the cell.\n",
        "\n",
        "* all sizes are in mm\n",
        "* you can specify the output size either as width or height (x or y)\n",
        "* a small border is recommended, otherwise edges may be in printer's unprintable zone"
      ],
      "metadata": {
        "id": "l_tHdRSnPRth"
      }
    },
    {
      "cell_type": "code",
      "source": [
        "# take first filename from list\n",
        "image_filename = list(uploaded_files.keys())[0]\n",
        "\n",
        "target_axis = \"-x\" #@param [\"-x\", \"-y\", \"--width\", \"--height\"]\n",
        "target_size_mm = 1000 #@param {type:\"integer\"}\n",
        "paper_type = \"a3\" #@param [\"a4\", \"a3\"]\n",
        "border_size_mm = 10 #@param {type:\"integer\"}\n",
        "\n",
        "# main method takes args as list\n",
        "args_list = [target_axis, f\"{target_size_mm}\", \"-p\", paper_type, \"-b\", f\"{border_size_mm}\", f\"{image_filename}\"]\n",
        "print(f\"args list: {args_list}\")"
      ],
      "metadata": {
        "cellView": "form",
        "id": "IgRTVscyFjjS"
      },
      "execution_count": null,
      "outputs": []
    },
    {
      "cell_type": "markdown",
      "source": [
        "# STEP 4: Run\n",
        "\n",
        "A PDF file should be generated with a filename something like this:\n",
        "\n",
        "`image_filename_x_1000mm_a3.pdf`\n",
        "\n",
        "You can find the file by clicking on the little folder symbol at the far left of this window to expand the Files sidebar.\n",
        "\n",
        "NOTE: I have found that it may take some time for the file to show up in the sidebar.\n",
        "\n",
        "You can download the file by clicking on the three little dots which appear when you point at the filename, the choose \"download\".\n",
        "\n",
        "RaSP also creates a folder called \"temp_images\" which contains all of the separate image sections as .png files."
      ],
      "metadata": {
        "id": "DX6wU9n3Xrbo"
      }
    },
    {
      "cell_type": "code",
      "source": [
        "rasp.main(args_list)"
      ],
      "metadata": {
        "id": "ITJyYIrm9qVx"
      },
      "execution_count": null,
      "outputs": []
    }
  ]
}